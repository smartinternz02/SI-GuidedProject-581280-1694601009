{
  "nbformat": 4,
  "nbformat_minor": 0,
  "metadata": {
    "colab": {
      "provenance": []
    },
    "kernelspec": {
      "name": "python3",
      "display_name": "Python 3"
    },
    "language_info": {
      "name": "python"
    }
  },
  "cells": [
    {
      "cell_type": "markdown",
      "source": [
        "**KOTAPURI SUPRAJA 21BCE9695**\n",
        "\n",
        "\n",
        "\n",
        "**ASSIGNMENT 1**"
      ],
      "metadata": {
        "id": "WwC_dRCIhFqt"
      }
    },
    {
      "cell_type": "markdown",
      "source": [
        "**1.NumPy Exercises**\n",
        "\n",
        "Now that we’ve learned about NumPy let’s test your knowledge. We’ll start off with a few simple\n",
        "tasks, and then you’ll be asked some more complicated questions."
      ],
      "metadata": {
        "id": "1YRlYLgpcWUo"
      }
    },
    {
      "cell_type": "markdown",
      "source": [
        "**Import NumPy as np**"
      ],
      "metadata": {
        "id": "HY6rm4RucrCV"
      }
    },
    {
      "cell_type": "code",
      "source": [
        "import numpy as np"
      ],
      "metadata": {
        "id": "0wBfJSICc4tf"
      },
      "execution_count": null,
      "outputs": []
    },
    {
      "cell_type": "markdown",
      "source": [
        " **Create an array of 10 zeros**"
      ],
      "metadata": {
        "id": "vyr92kfydAmY"
      }
    },
    {
      "cell_type": "code",
      "source": [
        "z=np.zeros(10)\n",
        "z"
      ],
      "metadata": {
        "colab": {
          "base_uri": "https://localhost:8080/"
        },
        "id": "GF8Dh1mEdK1I",
        "outputId": "fa57ad5a-d755-4100-a138-b9ce38f12e17"
      },
      "execution_count": null,
      "outputs": [
        {
          "output_type": "execute_result",
          "data": {
            "text/plain": [
              "array([0., 0., 0., 0., 0., 0., 0., 0., 0., 0.])"
            ]
          },
          "metadata": {},
          "execution_count": 2
        }
      ]
    },
    {
      "cell_type": "markdown",
      "source": [
        "**Create an array of 10 ones**"
      ],
      "metadata": {
        "id": "Vxg7XfhAdQ6Q"
      }
    },
    {
      "cell_type": "code",
      "source": [
        "z=np.ones(10)\n",
        "z"
      ],
      "metadata": {
        "colab": {
          "base_uri": "https://localhost:8080/"
        },
        "id": "vq2pEexwdWD_",
        "outputId": "de635852-710b-46c9-894d-e231a1c7091a"
      },
      "execution_count": null,
      "outputs": [
        {
          "output_type": "execute_result",
          "data": {
            "text/plain": [
              "array([1., 1., 1., 1., 1., 1., 1., 1., 1., 1.])"
            ]
          },
          "metadata": {},
          "execution_count": 3
        }
      ]
    },
    {
      "cell_type": "markdown",
      "source": [
        "**Create an array of 10 fives**"
      ],
      "metadata": {
        "id": "H8BD-g2bdcyQ"
      }
    },
    {
      "cell_type": "code",
      "source": [
        "z=5 * np.ones(10)\n",
        "z"
      ],
      "metadata": {
        "colab": {
          "base_uri": "https://localhost:8080/"
        },
        "id": "AucaqNW1diZG",
        "outputId": "f818e01c-674d-488d-edfd-36c80855228b"
      },
      "execution_count": null,
      "outputs": [
        {
          "output_type": "execute_result",
          "data": {
            "text/plain": [
              "array([5., 5., 5., 5., 5., 5., 5., 5., 5., 5.])"
            ]
          },
          "metadata": {},
          "execution_count": 4
        }
      ]
    },
    {
      "cell_type": "markdown",
      "source": [
        "**Create an array of the integers from 10 to 50**"
      ],
      "metadata": {
        "id": "2ZiCHdWFdzOe"
      }
    },
    {
      "cell_type": "code",
      "source": [
        "z=np.arange(10, 51)\n",
        "z"
      ],
      "metadata": {
        "colab": {
          "base_uri": "https://localhost:8080/"
        },
        "id": "8TJYXLiQc_Rg",
        "outputId": "304f0117-9185-4876-8c9b-c45084e84a0e"
      },
      "execution_count": null,
      "outputs": [
        {
          "output_type": "execute_result",
          "data": {
            "text/plain": [
              "array([10, 11, 12, 13, 14, 15, 16, 17, 18, 19, 20, 21, 22, 23, 24, 25, 26,\n",
              "       27, 28, 29, 30, 31, 32, 33, 34, 35, 36, 37, 38, 39, 40, 41, 42, 43,\n",
              "       44, 45, 46, 47, 48, 49, 50])"
            ]
          },
          "metadata": {},
          "execution_count": 6
        }
      ]
    },
    {
      "cell_type": "markdown",
      "source": [
        "**Create an array of all the even integers from 10 to 50**"
      ],
      "metadata": {
        "id": "aHWB58ufeCki"
      }
    },
    {
      "cell_type": "code",
      "source": [
        "z=np.arange(10,51,2)\n",
        "z"
      ],
      "metadata": {
        "colab": {
          "base_uri": "https://localhost:8080/"
        },
        "id": "sLU-hghweI06",
        "outputId": "2913be53-5ca2-4c1c-aaba-4449452e19e3"
      },
      "execution_count": null,
      "outputs": [
        {
          "output_type": "execute_result",
          "data": {
            "text/plain": [
              "array([10, 12, 14, 16, 18, 20, 22, 24, 26, 28, 30, 32, 34, 36, 38, 40, 42,\n",
              "       44, 46, 48, 50])"
            ]
          },
          "metadata": {},
          "execution_count": 7
        }
      ]
    },
    {
      "cell_type": "markdown",
      "source": [
        "**Create a 3x3 matrix with values ranging from 0 to 8**"
      ],
      "metadata": {
        "id": "BtR0i8ocePzI"
      }
    },
    {
      "cell_type": "code",
      "source": [
        "z=np.arange(9)\n",
        "z.reshape(3,3)"
      ],
      "metadata": {
        "colab": {
          "base_uri": "https://localhost:8080/"
        },
        "id": "dvW70WI6eWxE",
        "outputId": "8b0a1139-c03d-4fd5-bbc5-86851d237d99"
      },
      "execution_count": null,
      "outputs": [
        {
          "output_type": "execute_result",
          "data": {
            "text/plain": [
              "array([[0, 1, 2],\n",
              "       [3, 4, 5],\n",
              "       [6, 7, 8]])"
            ]
          },
          "metadata": {},
          "execution_count": 8
        }
      ]
    },
    {
      "cell_type": "markdown",
      "source": [
        "**Create a 3x3 identity matrix**"
      ],
      "metadata": {
        "id": "TZeU-ieMefQw"
      }
    },
    {
      "cell_type": "code",
      "source": [
        "x=np.eye(3)\n",
        "x"
      ],
      "metadata": {
        "colab": {
          "base_uri": "https://localhost:8080/"
        },
        "id": "lmCbCvAtejMR",
        "outputId": "53cb0bfd-7125-432a-f145-e502913a1800"
      },
      "execution_count": null,
      "outputs": [
        {
          "output_type": "execute_result",
          "data": {
            "text/plain": [
              "array([[1., 0., 0.],\n",
              "       [0., 1., 0.],\n",
              "       [0., 0., 1.]])"
            ]
          },
          "metadata": {},
          "execution_count": 9
        }
      ]
    },
    {
      "cell_type": "markdown",
      "source": [
        "**Use NumPy to generate an array of 25 random numbers sampled from a standard normal distribution**"
      ],
      "metadata": {
        "id": "I8bMVHMKenlB"
      }
    },
    {
      "cell_type": "code",
      "source": [
        "z=np.random.randn(25)\n",
        "z"
      ],
      "metadata": {
        "colab": {
          "base_uri": "https://localhost:8080/"
        },
        "id": "-8juXQs3enTi",
        "outputId": "c1297fe0-86d3-4e06-fcb2-fb937d001f4e"
      },
      "execution_count": null,
      "outputs": [
        {
          "output_type": "execute_result",
          "data": {
            "text/plain": [
              "array([-0.94052234,  1.14542847, -2.03154831, -0.59699491, -2.05920167,\n",
              "       -1.19145794,  0.83761467,  0.19484064,  0.29335916,  0.25839888,\n",
              "       -0.30056854, -0.77617133,  0.05872581,  1.26122552, -1.16776959,\n",
              "       -0.2909958 ,  1.9916417 ,  1.22614789,  0.93598234,  0.29849256,\n",
              "       -0.08187796, -0.74675903,  0.39472007, -1.04775673, -1.0117613 ])"
            ]
          },
          "metadata": {},
          "execution_count": 10
        }
      ]
    },
    {
      "cell_type": "markdown",
      "source": [
        "**Create the following matrix:**"
      ],
      "metadata": {
        "id": "of-vwL6ufBx5"
      }
    },
    {
      "cell_type": "code",
      "source": [
        "z=np.arange(0.01, 1.01, 0.01)\n",
        "z.reshape(10, 10)"
      ],
      "metadata": {
        "colab": {
          "base_uri": "https://localhost:8080/"
        },
        "id": "xJRBqrWEfBAg",
        "outputId": "05bbc68c-b969-44ec-9699-ee1f5ab0d141"
      },
      "execution_count": null,
      "outputs": [
        {
          "output_type": "execute_result",
          "data": {
            "text/plain": [
              "array([[0.01, 0.02, 0.03, 0.04, 0.05, 0.06, 0.07, 0.08, 0.09, 0.1 ],\n",
              "       [0.11, 0.12, 0.13, 0.14, 0.15, 0.16, 0.17, 0.18, 0.19, 0.2 ],\n",
              "       [0.21, 0.22, 0.23, 0.24, 0.25, 0.26, 0.27, 0.28, 0.29, 0.3 ],\n",
              "       [0.31, 0.32, 0.33, 0.34, 0.35, 0.36, 0.37, 0.38, 0.39, 0.4 ],\n",
              "       [0.41, 0.42, 0.43, 0.44, 0.45, 0.46, 0.47, 0.48, 0.49, 0.5 ],\n",
              "       [0.51, 0.52, 0.53, 0.54, 0.55, 0.56, 0.57, 0.58, 0.59, 0.6 ],\n",
              "       [0.61, 0.62, 0.63, 0.64, 0.65, 0.66, 0.67, 0.68, 0.69, 0.7 ],\n",
              "       [0.71, 0.72, 0.73, 0.74, 0.75, 0.76, 0.77, 0.78, 0.79, 0.8 ],\n",
              "       [0.81, 0.82, 0.83, 0.84, 0.85, 0.86, 0.87, 0.88, 0.89, 0.9 ],\n",
              "       [0.91, 0.92, 0.93, 0.94, 0.95, 0.96, 0.97, 0.98, 0.99, 1.  ]])"
            ]
          },
          "metadata": {},
          "execution_count": 11
        }
      ]
    },
    {
      "cell_type": "markdown",
      "source": [
        "**Create an array of 20 linearly spaced points between 0 and 1:**"
      ],
      "metadata": {
        "id": "ZpD9ztIkfbUJ"
      }
    },
    {
      "cell_type": "code",
      "source": [
        "z=np.linspace(0, 1, 20)\n",
        "z"
      ],
      "metadata": {
        "colab": {
          "base_uri": "https://localhost:8080/"
        },
        "id": "TmpgRRqTfiO1",
        "outputId": "40bb6e1c-3b21-49b7-cafa-768a1a96ceef"
      },
      "execution_count": null,
      "outputs": [
        {
          "output_type": "execute_result",
          "data": {
            "text/plain": [
              "array([0.        , 0.05263158, 0.10526316, 0.15789474, 0.21052632,\n",
              "       0.26315789, 0.31578947, 0.36842105, 0.42105263, 0.47368421,\n",
              "       0.52631579, 0.57894737, 0.63157895, 0.68421053, 0.73684211,\n",
              "       0.78947368, 0.84210526, 0.89473684, 0.94736842, 1.        ])"
            ]
          },
          "metadata": {},
          "execution_count": 12
        }
      ]
    },
    {
      "cell_type": "markdown",
      "source": [
        "**1.1   Numpy Indexing and Selection**\n",
        "\n",
        "Now you will be given a few matrices, and be asked to repicate the resulting matrix outputs:"
      ],
      "metadata": {
        "id": "rS5T3LHwfngF"
      }
    },
    {
      "cell_type": "code",
      "source": [
        "mat = np.arange(1,26).reshape(5,5)\n",
        "mat"
      ],
      "metadata": {
        "colab": {
          "base_uri": "https://localhost:8080/"
        },
        "id": "xoKOZ7V1f93p",
        "outputId": "04b7d85d-8370-449d-be45-4896d0b5a37b"
      },
      "execution_count": null,
      "outputs": [
        {
          "output_type": "execute_result",
          "data": {
            "text/plain": [
              "array([[ 1,  2,  3,  4,  5],\n",
              "       [ 6,  7,  8,  9, 10],\n",
              "       [11, 12, 13, 14, 15],\n",
              "       [16, 17, 18, 19, 20],\n",
              "       [21, 22, 23, 24, 25]])"
            ]
          },
          "metadata": {},
          "execution_count": 13
        }
      ]
    },
    {
      "cell_type": "code",
      "source": [
        "mat[2:5,1:5]"
      ],
      "metadata": {
        "colab": {
          "base_uri": "https://localhost:8080/"
        },
        "id": "SII2j24vgFl2",
        "outputId": "57944935-ce3b-4ffc-fbe7-82946f6a0ddc"
      },
      "execution_count": null,
      "outputs": [
        {
          "output_type": "execute_result",
          "data": {
            "text/plain": [
              "array([[12, 13, 14, 15],\n",
              "       [17, 18, 19, 20],\n",
              "       [22, 23, 24, 25]])"
            ]
          },
          "metadata": {},
          "execution_count": 14
        }
      ]
    },
    {
      "cell_type": "code",
      "source": [
        "mat[3][4]"
      ],
      "metadata": {
        "colab": {
          "base_uri": "https://localhost:8080/"
        },
        "id": "s6P6fKpFgKNe",
        "outputId": "f7a62f83-8b67-4503-981b-4f0ea2b9f868"
      },
      "execution_count": null,
      "outputs": [
        {
          "output_type": "execute_result",
          "data": {
            "text/plain": [
              "20"
            ]
          },
          "metadata": {},
          "execution_count": 15
        }
      ]
    },
    {
      "cell_type": "code",
      "source": [
        "mat[0:3,1:2]"
      ],
      "metadata": {
        "colab": {
          "base_uri": "https://localhost:8080/"
        },
        "id": "ajuhgWKlgPw-",
        "outputId": "f7e9c473-3791-4ae9-96e2-3de8ed5283af"
      },
      "execution_count": null,
      "outputs": [
        {
          "output_type": "execute_result",
          "data": {
            "text/plain": [
              "array([[ 2],\n",
              "       [ 7],\n",
              "       [12]])"
            ]
          },
          "metadata": {},
          "execution_count": 16
        }
      ]
    },
    {
      "cell_type": "code",
      "source": [
        "mat[4]"
      ],
      "metadata": {
        "colab": {
          "base_uri": "https://localhost:8080/"
        },
        "id": "lBbjQvglgVq1",
        "outputId": "d71281c6-dafa-46cb-951e-86e55017d149"
      },
      "execution_count": null,
      "outputs": [
        {
          "output_type": "execute_result",
          "data": {
            "text/plain": [
              "array([21, 22, 23, 24, 25])"
            ]
          },
          "metadata": {},
          "execution_count": 17
        }
      ]
    },
    {
      "cell_type": "code",
      "source": [
        "mat[3:5,0:5]"
      ],
      "metadata": {
        "colab": {
          "base_uri": "https://localhost:8080/"
        },
        "id": "cIPwEi4dgZEW",
        "outputId": "09d0651c-417f-44ef-cf13-c6a2cb390e8b"
      },
      "execution_count": null,
      "outputs": [
        {
          "output_type": "execute_result",
          "data": {
            "text/plain": [
              "array([[16, 17, 18, 19, 20],\n",
              "       [21, 22, 23, 24, 25]])"
            ]
          },
          "metadata": {},
          "execution_count": 18
        }
      ]
    },
    {
      "cell_type": "markdown",
      "source": [
        "**1.1.1   Now do the following**\n",
        "\n",
        "Get the sum of all values in mat"
      ],
      "metadata": {
        "id": "yt0yzx82geYG"
      }
    },
    {
      "cell_type": "code",
      "source": [
        "z=np.sum(mat)\n",
        "z"
      ],
      "metadata": {
        "colab": {
          "base_uri": "https://localhost:8080/"
        },
        "id": "IMoAHUcZgpa-",
        "outputId": "b59dcde6-2a9a-4764-d259-9a1086c122bc"
      },
      "execution_count": null,
      "outputs": [
        {
          "output_type": "execute_result",
          "data": {
            "text/plain": [
              "325"
            ]
          },
          "metadata": {},
          "execution_count": 19
        }
      ]
    },
    {
      "cell_type": "markdown",
      "source": [
        "**Get the standard deviation of the values in mat**"
      ],
      "metadata": {
        "id": "1FahATmjgtiw"
      }
    },
    {
      "cell_type": "code",
      "source": [
        "z=np.std(mat)\n",
        "z"
      ],
      "metadata": {
        "colab": {
          "base_uri": "https://localhost:8080/"
        },
        "id": "Li_-AAmqgzGZ",
        "outputId": "6815bf5a-7972-4288-c363-6abf8011ba26"
      },
      "execution_count": null,
      "outputs": [
        {
          "output_type": "execute_result",
          "data": {
            "text/plain": [
              "7.211102550927978"
            ]
          },
          "metadata": {},
          "execution_count": 20
        }
      ]
    },
    {
      "cell_type": "markdown",
      "source": [
        "**Get the sum of all the columns in mat**"
      ],
      "metadata": {
        "id": "J8laSBGog3C1"
      }
    },
    {
      "cell_type": "code",
      "source": [
        "np.sum(mat, axis=0)"
      ],
      "metadata": {
        "colab": {
          "base_uri": "https://localhost:8080/"
        },
        "id": "6xMwWwApg76A",
        "outputId": "dbfe3926-101c-4d1c-e545-5a25ee973936"
      },
      "execution_count": null,
      "outputs": [
        {
          "output_type": "execute_result",
          "data": {
            "text/plain": [
              "array([55, 60, 65, 70, 75])"
            ]
          },
          "metadata": {},
          "execution_count": 21
        }
      ]
    }
  ]
}